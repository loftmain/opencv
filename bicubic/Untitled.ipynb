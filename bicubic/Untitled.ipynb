{
 "cells": [
  {
   "cell_type": "code",
   "execution_count": null,
   "metadata": {},
   "outputs": [],
   "source": [
    "import cv2\n",
    "import os\n",
    "import numpy as np\n",
    "import tkinter as tk\n",
    "from tkinter import filedialog\n",
    "import bicubic\n",
    "import re\n",
    "import tempfile\n",
    "import shutil\n",
    "def imreadEX(image_path):\n",
    "    if re.compile('[^ㄱ-ㅣ가-힣]+').sub('', image_path):\n",
    "            stream = open(image_path, \"rb\")\n",
    "            bytes = bytearray(stream.read())\n",
    "            numpyarray = np.asarray(bytes, dtype=np.uint8)\n",
    "            img = cv2.imdecode(numpyarray, cv2.IMREAD_UNCHANGED)\n",
    "            if not img is None:\n",
    "                return img\n",
    "            else:\n",
    "                file_tmp=tempfile.NamedTemporaryFile().name\n",
    "                shutil.copy(image_path,file_tmp)\n",
    "                image_path=file_tmp\n",
    "    img = cv2.imread(image_path, cv2.IMREAD_UNCHANGED)\n",
    "    return img\n",
    "\n",
    "def draw_histogram(img):\n",
    "\n",
    "    h = np.zeros((img.shape[0], 256), dtype=np.uint8)\n",
    "\n",
    "    hist_item = cv2.calcHist([img],[0],None,[256],[0,256])\n",
    "    cv2.normalize(hist_item,hist_item,0,255,cv2.NORM_MINMAX)\n",
    "    hist=np.int32(np.around(hist_item))\n",
    "    for x,y in enumerate(hist):\n",
    "        cv2.line(h,(x,0+10),(x,y+10),(255,255,255))\n",
    "\n",
    "    cv2.line(h, (0, 0 + 10), (0, 5), (255, 255, 255) )\n",
    "    cv2.line(h, (255, 0 + 10), (255, 5), (255, 255, 255))\n",
    "    y = np.flipud(h)\n",
    "\n",
    "    return y\n",
    "\n",
    "# 파일선택창\n",
    "root = tk.Tk()\n",
    "root.withdraw()\n",
    "filename = filedialog.askopenfilename(title='Choose a original file')\n",
    "img_hr = imreadEX(filename)\n",
    "print(filename + ' loaded ')\n",
    "\n",
    "print('cubic interpolation do:  ' + filename)\n",
    "\n",
    "img_bi = bicubic.bicubic(img_hr, img_hr.shape[1] * 2, img_hr.shape[0] * 2)\n",
    "print(img_bi.shape)\n",
    "cv2.imwrite( filename+'save', img_bi)\n",
    "print(filename + ' saved as BI/bi-' + filename)\n",
    "\n",
    "original_histogram = draw_histogram(img_bi.astype('int8'))\n",
    "cv2.imshow('original', original_histogram)\n",
    "cv2.waitKey(0)\n",
    "cv2.destroyAllWindows()"
   ]
  },
  {
   "cell_type": "code",
   "execution_count": null,
   "metadata": {},
   "outputs": [],
   "source": []
  }
 ],
 "metadata": {
  "kernelspec": {
   "display_name": "Python 3",
   "language": "python",
   "name": "python3"
  },
  "language_info": {
   "name": ""
  }
 },
 "nbformat": 4,
 "nbformat_minor": 2
}
